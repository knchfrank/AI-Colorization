{
  "nbformat": 4,
  "nbformat_minor": 0,
  "metadata": {
    "colab": {
      "name": "place_colorize_ver2_onlyUnet.ipynb",
      "provenance": [],
      "collapsed_sections": [],
      "toc_visible": true
    },
    "kernelspec": {
      "name": "python3",
      "display_name": "Python 3"
    },
    "accelerator": "GPU"
  },
  "cells": [
    {
      "cell_type": "code",
      "metadata": {
        "id": "mGhOBptT_N1H",
        "colab_type": "code",
        "colab": {
          "base_uri": "https://localhost:8080/",
          "height": 122
        },
        "outputId": "a25dfe56-fa23-48ed-f608-00bcf93b8e61"
      },
      "source": [
        "from google.colab import drive\n",
        "drive.mount('/content/drive')"
      ],
      "execution_count": 1,
      "outputs": [
        {
          "output_type": "stream",
          "text": [
            "Go to this URL in a browser: https://accounts.google.com/o/oauth2/auth?client_id=947318989803-6bn6qk8qdgf4n4g3pfee6491hc0brc4i.apps.googleusercontent.com&redirect_uri=urn%3aietf%3awg%3aoauth%3a2.0%3aoob&response_type=code&scope=email%20https%3a%2f%2fwww.googleapis.com%2fauth%2fdocs.test%20https%3a%2f%2fwww.googleapis.com%2fauth%2fdrive%20https%3a%2f%2fwww.googleapis.com%2fauth%2fdrive.photos.readonly%20https%3a%2f%2fwww.googleapis.com%2fauth%2fpeopleapi.readonly\n",
            "\n",
            "Enter your authorization code:\n",
            "··········\n",
            "Mounted at /content/drive\n"
          ],
          "name": "stdout"
        }
      ]
    },
    {
      "cell_type": "code",
      "metadata": {
        "id": "VUpPpAGaGST3",
        "colab_type": "code",
        "colab": {
          "base_uri": "https://localhost:8080/",
          "height": 97
        },
        "outputId": "9697eb6f-db63-47bb-f926-214d8ec8c361"
      },
      "source": [
        "from keras.datasets.cifar10 import load_data\n",
        "from skimage.color import rgb2gray\n",
        "import matplotlib.pyplot as pyplot\n",
        "import numpy as np"
      ],
      "execution_count": 2,
      "outputs": [
        {
          "output_type": "stream",
          "text": [
            "Using TensorFlow backend.\n"
          ],
          "name": "stderr"
        },
        {
          "output_type": "display_data",
          "data": {
            "text/html": [
              "<p style=\"color: red;\">\n",
              "The default version of TensorFlow in Colab will soon switch to TensorFlow 2.x.<br>\n",
              "We recommend you <a href=\"https://www.tensorflow.org/guide/migrate\" target=\"_blank\">upgrade</a> now \n",
              "or ensure your notebook will continue to use TensorFlow 1.x via the <code>%tensorflow_version 1.x</code> magic:\n",
              "<a href=\"https://colab.research.google.com/notebooks/tensorflow_version.ipynb\" target=\"_blank\">more info</a>.</p>\n"
            ],
            "text/plain": [
              "<IPython.core.display.HTML object>"
            ]
          },
          "metadata": {
            "tags": []
          }
        }
      ]
    },
    {
      "cell_type": "code",
      "metadata": {
        "id": "qFBvLmTTD0Ck",
        "colab_type": "code",
        "colab": {}
      },
      "source": [
        "def reshape(item, shape):\n",
        "  item = np.array(item)\n",
        "  item = np.reshape(item, shape)\n",
        "  item = item/255.\n",
        "  return item"
      ],
      "execution_count": 0,
      "outputs": []
    },
    {
      "cell_type": "code",
      "metadata": {
        "id": "cnL34sG6FCjc",
        "colab_type": "code",
        "colab": {}
      },
      "source": [
        "def reshape2gray(item, shape):\n",
        "  item = rgb2gray(item)\n",
        "  item = np.array(item)\n",
        "  item = np.reshape(item, shape)\n",
        "  item = item/255.\n",
        "  return item"
      ],
      "execution_count": 0,
      "outputs": []
    },
    {
      "cell_type": "markdown",
      "metadata": {
        "id": "T69pSHW9GcU1",
        "colab_type": "text"
      },
      "source": [
        "# Load data"
      ]
    },
    {
      "cell_type": "code",
      "metadata": {
        "id": "AHsdFKjm_vLj",
        "colab_type": "code",
        "colab": {
          "base_uri": "https://localhost:8080/",
          "height": 51
        },
        "outputId": "7b28aa6a-d02e-4576-e491-c351ff04a10f"
      },
      "source": [
        "(trainX, _), (testX, _) = load_data()"
      ],
      "execution_count": 5,
      "outputs": [
        {
          "output_type": "stream",
          "text": [
            "Downloading data from https://www.cs.toronto.edu/~kriz/cifar-10-python.tar.gz\n",
            "170500096/170498071 [==============================] - 11s 0us/step\n"
          ],
          "name": "stdout"
        }
      ]
    },
    {
      "cell_type": "markdown",
      "metadata": {
        "id": "THWqaa2bGfaB",
        "colab_type": "text"
      },
      "source": [
        "# Preprocess"
      ]
    },
    {
      "cell_type": "code",
      "metadata": {
        "id": "KXoecg1nEQOP",
        "colab_type": "code",
        "colab": {}
      },
      "source": [
        "# Reshape training set\n",
        "feature = reshape2gray(trainX, (50000, 32, 32, 1))\n",
        "label = reshape(trainX, (50000, 32, 32, 3))\n",
        "\n",
        "# Reshape testing set\n",
        "feature_test = reshape2gray(testX, (10000, 32, 32, 1))\n",
        "label_test = reshape(testX, (10000, 32, 32, 3))"
      ],
      "execution_count": 0,
      "outputs": []
    },
    {
      "cell_type": "code",
      "metadata": {
        "id": "DlfP6g6a_vJC",
        "colab_type": "code",
        "outputId": "c8dfb4d2-598f-4662-b061-274cb2c95e82",
        "colab": {
          "base_uri": "https://localhost:8080/",
          "height": 346
        }
      },
      "source": [
        "from skimage.color import rgb2gray\n",
        "import numpy as np\n",
        "\n",
        "# convert training set to gray images\n",
        "feature = rgb2gray(trainX)\n",
        "label = trainX\n",
        "\n",
        "# show gray scale image and color image\n",
        "fig, axes = pyplot.subplots(1, 2, figsize=(8, 4))\n",
        "ax = axes.ravel()\n",
        "\n",
        "ax[0].imshow(label[0])\n",
        "ax[0].set_title(\"Original\")\n",
        "ax[1].imshow(feature[0], cmap=pyplot.cm.gray)\n",
        "ax[1].set_title(\"Grayscale\")\n",
        "\n",
        "fig.tight_layout()\n",
        "pyplot.show()\n",
        "\n",
        "feature = np.array(feature)\n",
        "feature = np.reshape(feature, (50000,32,32,1))\n",
        "feature = feature/255.\n",
        "label = np.array(label)\n",
        "label = np.reshape(label, (50000,32,32,3))\n",
        "label = label/255.\n",
        "print(\"feature shape : \" + str(feature.shape))\n",
        "print(\"label shape : \" + str(label.shape))"
      ],
      "execution_count": 8,
      "outputs": [
        {
          "output_type": "display_data",
          "data": {
            "image/png": "[encoded data removed]",
            "text/plain": [
              "<Figure size 576x288 with 2 Axes>"
            ]
          },
          "metadata": {
            "tags": []
          }
        },
        {
          "output_type": "stream",
          "text": [
            "feature shape : (50000, 32, 32, 1)\n",
            "label shape : (50000, 32, 32, 3)\n"
          ],
          "name": "stdout"
        }
      ]
    },
    {
      "cell_type": "code",
      "metadata": {
        "id": "ZPEB9HdERHkL",
        "colab_type": "code",
        "outputId": "51778ee1-c6b0-4a1b-94d8-48c778db50af",
        "colab": {
          "base_uri": "https://localhost:8080/",
          "height": 346
        }
      },
      "source": [
        "from skimage.color import rgb2gray\n",
        "import numpy as np\n",
        "\n",
        "# convert training set to gray images\n",
        "feature_test = rgb2gray(testX)\n",
        "label_test = testX\n",
        "\n",
        "# show gray scale image and color image\n",
        "fig, axes = pyplot.subplots(1, 2, figsize=(8, 4))\n",
        "ax = axes.ravel()\n",
        "\n",
        "ax[0].imshow(label_test[6])\n",
        "ax[0].set_title(\"Original\")\n",
        "ax[1].imshow(feature_test[6], cmap=pyplot.cm.gray)\n",
        "ax[1].set_title(\"Grayscale\")\n",
        "\n",
        "fig.tight_layout()\n",
        "pyplot.show()\n",
        "\n",
        "feature_test = np.array(feature_test)\n",
        "feature_test = np.reshape(feature_test, (10000,32,32,1))\n",
        "feature_test = feature_test/255.\n",
        "label_test = np.array(label_test)\n",
        "label_test = np.reshape(label_test, (10000,32,32,3))\n",
        "label_test = label_test/255.\n",
        "print(\"feature_test shape : \" + str(feature_test.shape))\n",
        "print(\"label_test shape : \" + str(label_test.shape))"
      ],
      "execution_count": 9,
      "outputs": [
        {
          "output_type": "display_data",
          "data": {
            "image/png": "[encoded data removed]",
            "text/plain": [
              "<Figure size 576x288 with 2 Axes>"
            ]
          },
          "metadata": {
            "tags": []
          }
        },
        {
          "output_type": "stream",
          "text": [
            "feature_test shape : (10000, 32, 32, 1)\n",
            "label_test shape : (10000, 32, 32, 3)\n"
          ],
          "name": "stdout"
        }
      ]
    },
    {
      "cell_type": "markdown",
      "metadata": {
        "id": "STEhRxeljwWX",
        "colab_type": "text"
      },
      "source": [
        "# define U-Net"
      ]
    },
    {
      "cell_type": "code",
      "metadata": {
        "id": "ABfgQNaZGbTb",
        "colab_type": "code",
        "colab": {}
      },
      "source": [
        "# define U-net apply LeakyReLU activation function and Batch Normalization layers\n",
        "import numpy as np \n",
        "import os\n",
        "import skimage.io as io\n",
        "import skimage.transform as trans\n",
        "import numpy as np\n",
        "from keras.models import *\n",
        "from keras.layers import *\n",
        "from keras.optimizers import *\n",
        "from keras.callbacks import ModelCheckpoint, LearningRateScheduler\n",
        "from keras import backend as keras\n",
        "\n",
        "def unet(pretrained_weights = None,input_size = (32,32,1)):\n",
        "    inputs = Input(input_size)\n",
        "\n",
        "    conv1 = Conv2D(64, 3, padding = 'same', kernel_initializer = 'he_normal')(inputs)\n",
        "    conv1 = LeakyReLU(alpha=0.2)(conv1)\n",
        "    conv1 = Conv2D(64, 3, padding = 'same', kernel_initializer = 'he_normal')(conv1)\n",
        "    conv1 = BatchNormalization()(conv1)\n",
        "    conv1 = LeakyReLU(alpha=0.2)(conv1)\n",
        "    pool1 = MaxPooling2D(pool_size=(2, 2))(conv1)\n",
        "\n",
        "    conv2 = Conv2D(128, 3, padding = 'same', kernel_initializer = 'he_normal')(pool1)\n",
        "    conv2 = BatchNormalization()(conv2)\n",
        "    conv2 = LeakyReLU(alpha=0.2)(conv2)\n",
        "    conv2 = Conv2D(128, 3, padding = 'same', kernel_initializer = 'he_normal')(conv2)\n",
        "    conv2 = BatchNormalization()(conv2)\n",
        "    conv2 = LeakyReLU(alpha=0.2)(conv2)\n",
        "    pool2 = MaxPooling2D(pool_size=(2, 2))(conv2)\n",
        "\n",
        "    conv3 = Conv2D(256, 3, padding = 'same', kernel_initializer = 'he_normal')(pool2)\n",
        "    conv3 = BatchNormalization()(conv3)\n",
        "    conv3 = LeakyReLU(alpha=0.2)(conv3)\n",
        "    conv3 = Conv2D(256, 3, padding = 'same', kernel_initializer = 'he_normal')(conv3)\n",
        "    conv3 = BatchNormalization()(conv3)\n",
        "    conv3 = LeakyReLU(alpha=0.2)(conv3)\n",
        "    pool3 = MaxPooling2D(pool_size=(2, 2))(conv3)\n",
        "\n",
        "    conv4 = Conv2D(512, 3, padding = 'same', kernel_initializer = 'he_normal')(pool3)\n",
        "    conv4 = BatchNormalization()(conv4)\n",
        "    conv4 = LeakyReLU(alpha=0.2)(conv4)\n",
        "    conv4 = Conv2D(512, 3, padding = 'same', kernel_initializer = 'he_normal')(conv4)\n",
        "    conv4 = BatchNormalization()(conv4)\n",
        "    conv4 = LeakyReLU(alpha=0.2)(conv4)\n",
        "    drop4 = Dropout(0.5)(conv4)\n",
        "    pool4 = MaxPooling2D(pool_size=(2, 2))(drop4)\n",
        "\n",
        "    conv5 = Conv2D(1024, 3, padding = 'same', kernel_initializer = 'he_normal')(pool4)\n",
        "    conv5 = BatchNormalization()(conv5)\n",
        "    conv5 = LeakyReLU(alpha=0.2)(conv5)\n",
        "    conv5 = Conv2D(1024, 3, padding = 'same', kernel_initializer = 'he_normal')(conv5)\n",
        "    conv5 = BatchNormalization()(conv5)\n",
        "    conv5 = LeakyReLU(alpha=0.2)(conv5)\n",
        "    drop5 = Dropout(0.5)(conv5)\n",
        "\n",
        "\n",
        "    up6 = Conv2D(512, 2, padding = 'same', kernel_initializer = 'he_normal')(UpSampling2D(size = (2,2))(drop5))\n",
        "    merge6 = concatenate([drop4,up6], axis = 3)\n",
        "    conv6 = Conv2D(512, 3, padding = 'same', kernel_initializer = 'he_normal')(merge6)\n",
        "    conv6 = BatchNormalization()(conv6)\n",
        "    conv6 = LeakyReLU(alpha=0.2)(conv6)\n",
        "    conv6 = Conv2D(512, 3, padding = 'same', kernel_initializer = 'he_normal')(conv6)\n",
        "    conv6 = BatchNormalization()(conv6)\n",
        "    conv6 = LeakyReLU(alpha=0.2)(conv6)\n",
        "\n",
        "    up7 = Conv2D(256, 2, padding = 'same', kernel_initializer = 'he_normal')(UpSampling2D(size = (2,2))(conv6))\n",
        "    merge7 = concatenate([conv3,up7], axis = 3)\n",
        "    conv7 = Conv2D(256, 3, padding = 'same', kernel_initializer = 'he_normal')(merge7)\n",
        "    conv7 = BatchNormalization()(conv7)\n",
        "    conv7 = LeakyReLU(alpha=0.2)(conv7)\n",
        "    conv7 = Conv2D(256, 3, padding = 'same', kernel_initializer = 'he_normal')(conv7)\n",
        "    conv7 = BatchNormalization()(conv7)\n",
        "    conv7 = LeakyReLU(alpha=0.2)(conv7)\n",
        "\n",
        "    up8 = Conv2D(128, 2, padding = 'same', kernel_initializer = 'he_normal')(UpSampling2D(size = (2,2))(conv7))\n",
        "    merge8 = concatenate([conv2,up8], axis = 3)\n",
        "    conv8 = Conv2D(128, 3, padding = 'same', kernel_initializer = 'he_normal')(merge8)\n",
        "    conv8 = BatchNormalization()(conv8)\n",
        "    conv8 = LeakyReLU(alpha=0.2)(conv8)\n",
        "    conv8 = Conv2D(128, 3, padding = 'same', kernel_initializer = 'he_normal')(conv8)\n",
        "    conv8 = BatchNormalization()(conv8)\n",
        "    conv8 = LeakyReLU(alpha=0.2)(conv8)\n",
        "\n",
        "    up9 = Conv2D(64, 2, padding = 'same', kernel_initializer = 'he_normal')(UpSampling2D(size = (2,2))(conv8))\n",
        "    merge9 = concatenate([conv1,up9], axis = 3)\n",
        "    conv9 = Conv2D(64, 3, padding = 'same', kernel_initializer = 'he_normal')(merge9)\n",
        "    conv9 = BatchNormalization()(conv9)\n",
        "    conv9 = LeakyReLU(alpha=0.2)(conv9)\n",
        "    conv9 = Conv2D(64, 3, padding = 'same', kernel_initializer = 'he_normal')(conv9)\n",
        "    conv9 = BatchNormalization()(conv9)\n",
        "    conv9 = LeakyReLU(alpha=0.2)(conv9)\n",
        "    conv9 = Conv2D(32, 3, padding = 'same', kernel_initializer = 'he_normal')(conv9)\n",
        "    conv9 = LeakyReLU(alpha=0.2)(conv9)\n",
        "    conv10 = Conv2D(3, 1, activation = 'sigmoid')(conv9)\n",
        "\n",
        "    model = Model(input = inputs, output = conv10)\n",
        "\n",
        "    model.compile(optimizer = Adam(lr = 1e-4), loss = 'binary_crossentropy', metrics = ['accuracy'])\n",
        "    \n",
        "    #model.summary()\n",
        "\n",
        "    if(pretrained_weights):\n",
        "    \tmodel.load_weights(pretrained_weights)\n",
        "\n",
        "    return model"
      ],
      "execution_count": 0,
      "outputs": []
    },
    {
      "cell_type": "markdown",
      "metadata": {
        "id": "Vltdty2jAOyx",
        "colab_type": "text"
      },
      "source": [
        "# Build U-net"
      ]
    },
    {
      "cell_type": "code",
      "metadata": {
        "id": "zGQhF0-RJord",
        "colab_type": "code",
        "outputId": "d0e61c7b-dc99-43be-f9cd-2dd0154c14c2",
        "colab": {
          "base_uri": "https://localhost:8080/",
          "height": 1000
        }
      },
      "source": [
        "input_shape = (32,32,1)\n",
        "weight_path = '/content/drive/My Drive/final_ai/test_ver2_onlyUnet_15ep.hdf5' # use pre-trained model\n",
        "model = unet(weight_path, input_shape) # use unet(False, input_shape) for new training\n",
        "model.summary()"
      ],
      "execution_count": 11,
      "outputs": [
        {
          "output_type": "stream",
          "text": [
            "WARNING:tensorflow:From /usr/local/lib/python3.6/dist-packages/keras/backend/tensorflow_backend.py:66: The name tf.get_default_graph is deprecated. Please use tf.compat.v1.get_default_graph instead.\n",
            "\n",
            "WARNING:tensorflow:From /usr/local/lib/python3.6/dist-packages/keras/backend/tensorflow_backend.py:541: The name tf.placeholder is deprecated. Please use tf.compat.v1.placeholder instead.\n",
            "\n",
            "WARNING:tensorflow:From /usr/local/lib/python3.6/dist-packages/keras/backend/tensorflow_backend.py:4479: The name tf.truncated_normal is deprecated. Please use tf.random.truncated_normal instead.\n",
            "\n",
            "WARNING:tensorflow:From /usr/local/lib/python3.6/dist-packages/keras/backend/tensorflow_backend.py:190: The name tf.get_default_session is deprecated. Please use tf.compat.v1.get_default_session instead.\n",
            "\n",
            "WARNING:tensorflow:From /usr/local/lib/python3.6/dist-packages/keras/backend/tensorflow_backend.py:197: The name tf.ConfigProto is deprecated. Please use tf.compat.v1.ConfigProto instead.\n",
            "\n",
            "WARNING:tensorflow:From /usr/local/lib/python3.6/dist-packages/keras/backend/tensorflow_backend.py:203: The name tf.Session is deprecated. Please use tf.compat.v1.Session instead.\n",
            "\n",
            "WARNING:tensorflow:From /usr/local/lib/python3.6/dist-packages/keras/backend/tensorflow_backend.py:207: The name tf.global_variables is deprecated. Please use tf.compat.v1.global_variables instead.\n",
            "\n",
            "WARNING:tensorflow:From /usr/local/lib/python3.6/dist-packages/keras/backend/tensorflow_backend.py:216: The name tf.is_variable_initialized is deprecated. Please use tf.compat.v1.is_variable_initialized instead.\n",
            "\n",
            "WARNING:tensorflow:From /usr/local/lib/python3.6/dist-packages/keras/backend/tensorflow_backend.py:223: The name tf.variables_initializer is deprecated. Please use tf.compat.v1.variables_initializer instead.\n",
            "\n",
            "WARNING:tensorflow:From /usr/local/lib/python3.6/dist-packages/keras/backend/tensorflow_backend.py:2041: The name tf.nn.fused_batch_norm is deprecated. Please use tf.compat.v1.nn.fused_batch_norm instead.\n",
            "\n",
            "WARNING:tensorflow:From /usr/local/lib/python3.6/dist-packages/keras/backend/tensorflow_backend.py:148: The name tf.placeholder_with_default is deprecated. Please use tf.compat.v1.placeholder_with_default instead.\n",
            "\n",
            "WARNING:tensorflow:From /usr/local/lib/python3.6/dist-packages/keras/backend/tensorflow_backend.py:4267: The name tf.nn.max_pool is deprecated. Please use tf.nn.max_pool2d instead.\n",
            "\n",
            "WARNING:tensorflow:From /usr/local/lib/python3.6/dist-packages/keras/backend/tensorflow_backend.py:3733: calling dropout (from tensorflow.python.ops.nn_ops) with keep_prob is deprecated and will be removed in a future version.\n",
            "Instructions for updating:\n",
            "Please use `rate` instead of `keep_prob`. Rate should be set to `rate = 1 - keep_prob`.\n",
            "WARNING:tensorflow:From /usr/local/lib/python3.6/dist-packages/keras/backend/tensorflow_backend.py:2239: The name tf.image.resize_nearest_neighbor is deprecated. Please use tf.compat.v1.image.resize_nearest_neighbor instead.\n",
            "\n",
            "WARNING:tensorflow:From /usr/local/lib/python3.6/dist-packages/keras/backend/tensorflow_backend.py:4432: The name tf.random_uniform is deprecated. Please use tf.random.uniform instead.\n",
            "\n",
            "WARNING:tensorflow:From /usr/local/lib/python3.6/dist-packages/keras/optimizers.py:793: The name tf.train.Optimizer is deprecated. Please use tf.compat.v1.train.Optimizer instead.\n",
            "\n",
            "WARNING:tensorflow:From /usr/local/lib/python3.6/dist-packages/keras/backend/tensorflow_backend.py:3657: The name tf.log is deprecated. Please use tf.math.log instead.\n",
            "\n",
            "WARNING:tensorflow:From /usr/local/lib/python3.6/dist-packages/tensorflow_core/python/ops/nn_impl.py:183: where (from tensorflow.python.ops.array_ops) is deprecated and will be removed in a future version.\n",
            "Instructions for updating:\n",
            "Use tf.where in 2.0, which has the same broadcast rule as np.where\n"
          ],
          "name": "stdout"
        },
        {
          "output_type": "stream",
          "text": [
            "/usr/local/lib/python3.6/dist-packages/ipykernel_launcher.py:95: UserWarning: Update your `Model` call to the Keras 2 API: `Model(inputs=Tensor(\"in..., outputs=Tensor(\"co...)`\n"
          ],
          "name": "stderr"
        },
        {
          "output_type": "stream",
          "text": [
            "Model: \"model_1\"\n",
            "__________________________________________________________________________________________________\n",
            "Layer (type)                    Output Shape         Param #     Connected to                     \n",
            "==================================================================================================\n",
            "input_1 (InputLayer)            (None, 32, 32, 1)    0                                            \n",
            "__________________________________________________________________________________________________\n",
            "conv2d_1 (Conv2D)               (None, 32, 32, 64)   640         input_1[0][0]                    \n",
            "__________________________________________________________________________________________________\n",
            "leaky_re_lu_1 (LeakyReLU)       (None, 32, 32, 64)   0           conv2d_1[0][0]                   \n",
            "__________________________________________________________________________________________________\n",
            "conv2d_2 (Conv2D)               (None, 32, 32, 64)   36928       leaky_re_lu_1[0][0]              \n",
            "__________________________________________________________________________________________________\n",
            "batch_normalization_1 (BatchNor (None, 32, 32, 64)   256         conv2d_2[0][0]                   \n",
            "__________________________________________________________________________________________________\n",
            "leaky_re_lu_2 (LeakyReLU)       (None, 32, 32, 64)   0           batch_normalization_1[0][0]      \n",
            "__________________________________________________________________________________________________\n",
            "max_pooling2d_1 (MaxPooling2D)  (None, 16, 16, 64)   0           leaky_re_lu_2[0][0]              \n",
            "__________________________________________________________________________________________________\n",
            "conv2d_3 (Conv2D)               (None, 16, 16, 128)  73856       max_pooling2d_1[0][0]            \n",
            "__________________________________________________________________________________________________\n",
            "batch_normalization_2 (BatchNor (None, 16, 16, 128)  512         conv2d_3[0][0]                   \n",
            "__________________________________________________________________________________________________\n",
            "leaky_re_lu_3 (LeakyReLU)       (None, 16, 16, 128)  0           batch_normalization_2[0][0]      \n",
            "__________________________________________________________________________________________________\n",
            "conv2d_4 (Conv2D)               (None, 16, 16, 128)  147584      leaky_re_lu_3[0][0]              \n",
            "__________________________________________________________________________________________________\n",
            "batch_normalization_3 (BatchNor (None, 16, 16, 128)  512         conv2d_4[0][0]                   \n",
            "__________________________________________________________________________________________________\n",
            "leaky_re_lu_4 (LeakyReLU)       (None, 16, 16, 128)  0           batch_normalization_3[0][0]      \n",
            "__________________________________________________________________________________________________\n",
            "max_pooling2d_2 (MaxPooling2D)  (None, 8, 8, 128)    0           leaky_re_lu_4[0][0]              \n",
            "__________________________________________________________________________________________________\n",
            "conv2d_5 (Conv2D)               (None, 8, 8, 256)    295168      max_pooling2d_2[0][0]            \n",
            "__________________________________________________________________________________________________\n",
            "batch_normalization_4 (BatchNor (None, 8, 8, 256)    1024        conv2d_5[0][0]                   \n",
            "__________________________________________________________________________________________________\n",
            "leaky_re_lu_5 (LeakyReLU)       (None, 8, 8, 256)    0           batch_normalization_4[0][0]      \n",
            "__________________________________________________________________________________________________\n",
            "conv2d_6 (Conv2D)               (None, 8, 8, 256)    590080      leaky_re_lu_5[0][0]              \n",
            "__________________________________________________________________________________________________\n",
            "batch_normalization_5 (BatchNor (None, 8, 8, 256)    1024        conv2d_6[0][0]                   \n",
            "__________________________________________________________________________________________________\n",
            "leaky_re_lu_6 (LeakyReLU)       (None, 8, 8, 256)    0           batch_normalization_5[0][0]      \n",
            "__________________________________________________________________________________________________\n",
            "max_pooling2d_3 (MaxPooling2D)  (None, 4, 4, 256)    0           leaky_re_lu_6[0][0]              \n",
            "__________________________________________________________________________________________________\n",
            "conv2d_7 (Conv2D)               (None, 4, 4, 512)    1180160     max_pooling2d_3[0][0]            \n",
            "__________________________________________________________________________________________________\n",
            "batch_normalization_6 (BatchNor (None, 4, 4, 512)    2048        conv2d_7[0][0]                   \n",
            "__________________________________________________________________________________________________\n",
            "leaky_re_lu_7 (LeakyReLU)       (None, 4, 4, 512)    0           batch_normalization_6[0][0]      \n",
            "__________________________________________________________________________________________________\n",
            "conv2d_8 (Conv2D)               (None, 4, 4, 512)    2359808     leaky_re_lu_7[0][0]              \n",
            "__________________________________________________________________________________________________\n",
            "batch_normalization_7 (BatchNor (None, 4, 4, 512)    2048        conv2d_8[0][0]                   \n",
            "__________________________________________________________________________________________________\n",
            "leaky_re_lu_8 (LeakyReLU)       (None, 4, 4, 512)    0           batch_normalization_7[0][0]      \n",
            "__________________________________________________________________________________________________\n",
            "dropout_1 (Dropout)             (None, 4, 4, 512)    0           leaky_re_lu_8[0][0]              \n",
            "__________________________________________________________________________________________________\n",
            "max_pooling2d_4 (MaxPooling2D)  (None, 2, 2, 512)    0           dropout_1[0][0]                  \n",
            "__________________________________________________________________________________________________\n",
            "conv2d_9 (Conv2D)               (None, 2, 2, 1024)   4719616     max_pooling2d_4[0][0]            \n",
            "__________________________________________________________________________________________________\n",
            "batch_normalization_8 (BatchNor (None, 2, 2, 1024)   4096        conv2d_9[0][0]                   \n",
            "__________________________________________________________________________________________________\n",
            "leaky_re_lu_9 (LeakyReLU)       (None, 2, 2, 1024)   0           batch_normalization_8[0][0]      \n",
            "__________________________________________________________________________________________________\n",
            "conv2d_10 (Conv2D)              (None, 2, 2, 1024)   9438208     leaky_re_lu_9[0][0]              \n",
            "__________________________________________________________________________________________________\n",
            "batch_normalization_9 (BatchNor (None, 2, 2, 1024)   4096        conv2d_10[0][0]                  \n",
            "__________________________________________________________________________________________________\n",
            "leaky_re_lu_10 (LeakyReLU)      (None, 2, 2, 1024)   0           batch_normalization_9[0][0]      \n",
            "__________________________________________________________________________________________________\n",
            "dropout_2 (Dropout)             (None, 2, 2, 1024)   0           leaky_re_lu_10[0][0]             \n",
            "__________________________________________________________________________________________________\n",
            "up_sampling2d_1 (UpSampling2D)  (None, 4, 4, 1024)   0           dropout_2[0][0]                  \n",
            "__________________________________________________________________________________________________\n",
            "conv2d_11 (Conv2D)              (None, 4, 4, 512)    2097664     up_sampling2d_1[0][0]            \n",
            "__________________________________________________________________________________________________\n",
            "concatenate_1 (Concatenate)     (None, 4, 4, 1024)   0           dropout_1[0][0]                  \n",
            "                                                                 conv2d_11[0][0]                  \n",
            "__________________________________________________________________________________________________\n",
            "conv2d_12 (Conv2D)              (None, 4, 4, 512)    4719104     concatenate_1[0][0]              \n",
            "__________________________________________________________________________________________________\n",
            "batch_normalization_10 (BatchNo (None, 4, 4, 512)    2048        conv2d_12[0][0]                  \n",
            "__________________________________________________________________________________________________\n",
            "leaky_re_lu_11 (LeakyReLU)      (None, 4, 4, 512)    0           batch_normalization_10[0][0]     \n",
            "__________________________________________________________________________________________________\n",
            "conv2d_13 (Conv2D)              (None, 4, 4, 512)    2359808     leaky_re_lu_11[0][0]             \n",
            "__________________________________________________________________________________________________\n",
            "batch_normalization_11 (BatchNo (None, 4, 4, 512)    2048        conv2d_13[0][0]                  \n",
            "__________________________________________________________________________________________________\n",
            "leaky_re_lu_12 (LeakyReLU)      (None, 4, 4, 512)    0           batch_normalization_11[0][0]     \n",
            "__________________________________________________________________________________________________\n",
            "up_sampling2d_2 (UpSampling2D)  (None, 8, 8, 512)    0           leaky_re_lu_12[0][0]             \n",
            "__________________________________________________________________________________________________\n",
            "conv2d_14 (Conv2D)              (None, 8, 8, 256)    524544      up_sampling2d_2[0][0]            \n",
            "__________________________________________________________________________________________________\n",
            "concatenate_2 (Concatenate)     (None, 8, 8, 512)    0           leaky_re_lu_6[0][0]              \n",
            "                                                                 conv2d_14[0][0]                  \n",
            "__________________________________________________________________________________________________\n",
            "conv2d_15 (Conv2D)              (None, 8, 8, 256)    1179904     concatenate_2[0][0]              \n",
            "__________________________________________________________________________________________________\n",
            "batch_normalization_12 (BatchNo (None, 8, 8, 256)    1024        conv2d_15[0][0]                  \n",
            "__________________________________________________________________________________________________\n",
            "leaky_re_lu_13 (LeakyReLU)      (None, 8, 8, 256)    0           batch_normalization_12[0][0]     \n",
            "__________________________________________________________________________________________________\n",
            "conv2d_16 (Conv2D)              (None, 8, 8, 256)    590080      leaky_re_lu_13[0][0]             \n",
            "__________________________________________________________________________________________________\n",
            "batch_normalization_13 (BatchNo (None, 8, 8, 256)    1024        conv2d_16[0][0]                  \n",
            "__________________________________________________________________________________________________\n",
            "leaky_re_lu_14 (LeakyReLU)      (None, 8, 8, 256)    0           batch_normalization_13[0][0]     \n",
            "__________________________________________________________________________________________________\n",
            "up_sampling2d_3 (UpSampling2D)  (None, 16, 16, 256)  0           leaky_re_lu_14[0][0]             \n",
            "__________________________________________________________________________________________________\n",
            "conv2d_17 (Conv2D)              (None, 16, 16, 128)  131200      up_sampling2d_3[0][0]            \n",
            "__________________________________________________________________________________________________\n",
            "concatenate_3 (Concatenate)     (None, 16, 16, 256)  0           leaky_re_lu_4[0][0]              \n",
            "                                                                 conv2d_17[0][0]                  \n",
            "__________________________________________________________________________________________________\n",
            "conv2d_18 (Conv2D)              (None, 16, 16, 128)  295040      concatenate_3[0][0]              \n",
            "__________________________________________________________________________________________________\n",
            "batch_normalization_14 (BatchNo (None, 16, 16, 128)  512         conv2d_18[0][0]                  \n",
            "__________________________________________________________________________________________________\n",
            "leaky_re_lu_15 (LeakyReLU)      (None, 16, 16, 128)  0           batch_normalization_14[0][0]     \n",
            "__________________________________________________________________________________________________\n",
            "conv2d_19 (Conv2D)              (None, 16, 16, 128)  147584      leaky_re_lu_15[0][0]             \n",
            "__________________________________________________________________________________________________\n",
            "batch_normalization_15 (BatchNo (None, 16, 16, 128)  512         conv2d_19[0][0]                  \n",
            "__________________________________________________________________________________________________\n",
            "leaky_re_lu_16 (LeakyReLU)      (None, 16, 16, 128)  0           batch_normalization_15[0][0]     \n",
            "__________________________________________________________________________________________________\n",
            "up_sampling2d_4 (UpSampling2D)  (None, 32, 32, 128)  0           leaky_re_lu_16[0][0]             \n",
            "__________________________________________________________________________________________________\n",
            "conv2d_20 (Conv2D)              (None, 32, 32, 64)   32832       up_sampling2d_4[0][0]            \n",
            "__________________________________________________________________________________________________\n",
            "concatenate_4 (Concatenate)     (None, 32, 32, 128)  0           leaky_re_lu_2[0][0]              \n",
            "                                                                 conv2d_20[0][0]                  \n",
            "__________________________________________________________________________________________________\n",
            "conv2d_21 (Conv2D)              (None, 32, 32, 64)   73792       concatenate_4[0][0]              \n",
            "__________________________________________________________________________________________________\n",
            "batch_normalization_16 (BatchNo (None, 32, 32, 64)   256         conv2d_21[0][0]                  \n",
            "__________________________________________________________________________________________________\n",
            "leaky_re_lu_17 (LeakyReLU)      (None, 32, 32, 64)   0           batch_normalization_16[0][0]     \n",
            "__________________________________________________________________________________________________\n",
            "conv2d_22 (Conv2D)              (None, 32, 32, 64)   36928       leaky_re_lu_17[0][0]             \n",
            "__________________________________________________________________________________________________\n",
            "batch_normalization_17 (BatchNo (None, 32, 32, 64)   256         conv2d_22[0][0]                  \n",
            "__________________________________________________________________________________________________\n",
            "leaky_re_lu_18 (LeakyReLU)      (None, 32, 32, 64)   0           batch_normalization_17[0][0]     \n",
            "__________________________________________________________________________________________________\n",
            "conv2d_23 (Conv2D)              (None, 32, 32, 32)   18464       leaky_re_lu_18[0][0]             \n",
            "__________________________________________________________________________________________________\n",
            "leaky_re_lu_19 (LeakyReLU)      (None, 32, 32, 32)   0           conv2d_23[0][0]                  \n",
            "__________________________________________________________________________________________________\n",
            "conv2d_24 (Conv2D)              (None, 32, 32, 3)    99          leaky_re_lu_19[0][0]             \n",
            "==================================================================================================\n",
            "Total params: 31,072,387\n",
            "Trainable params: 31,060,739\n",
            "Non-trainable params: 11,648\n",
            "__________________________________________________________________________________________________\n"
          ],
          "name": "stdout"
        }
      ]
    },
    {
      "cell_type": "markdown",
      "metadata": {
        "id": "faEH4AhmASL3",
        "colab_type": "text"
      },
      "source": [
        "# Train U-net"
      ]
    },
    {
      "cell_type": "code",
      "metadata": {
        "id": "2fg3KZLHgLtL",
        "colab_type": "code",
        "colab": {}
      },
      "source": [
        "# Define callback for checkpoint \n",
        "from keras import callbacks\n",
        "checkpoint = callbacks.ModelCheckpoint(filepath='/content/drive/My Drive/final_ai/test_ver2_onlyUnet_15ep.hdf5', verbose=1) # define save weigth path"
      ],
      "execution_count": 0,
      "outputs": []
    },
    {
      "cell_type": "code",
      "metadata": {
        "id": "ps_C1vO2JohK",
        "colab_type": "code",
        "outputId": "dd7dbe67-8ee0-43ef-92b4-9eceea4eee5a",
        "colab": {
          "base_uri": "https://localhost:8080/",
          "height": 1000
        }
      },
      "source": [
        "his = model.fit(x=feature,\n",
        "                y=label,\n",
        "                epochs=15,\n",
        "                verbose=1,\n",
        "                callbacks = [checkpoint],\n",
        "                use_multiprocessing=True)"
      ],
      "execution_count": 13,
      "outputs": [
        {
          "output_type": "stream",
          "text": [
            "WARNING:tensorflow:From /usr/local/lib/python3.6/dist-packages/keras/backend/tensorflow_backend.py:1033: The name tf.assign_add is deprecated. Please use tf.compat.v1.assign_add instead.\n",
            "\n",
            "WARNING:tensorflow:From /usr/local/lib/python3.6/dist-packages/keras/backend/tensorflow_backend.py:1020: The name tf.assign is deprecated. Please use tf.compat.v1.assign instead.\n",
            "\n",
            "Epoch 1/15\n",
            "50000/50000 [==============================] - 100s 2ms/step - loss: 0.5683 - acc: 0.0120\n",
            "\n",
            "Epoch 00001: saving model to /content/drive/My Drive/final_ai/test_ver2_onlyUnet_15ep.hdf5\n",
            "Epoch 2/15\n",
            "50000/50000 [==============================] - 92s 2ms/step - loss: 0.5631 - acc: 0.0121\n",
            "\n",
            "Epoch 00002: saving model to /content/drive/My Drive/final_ai/test_ver2_onlyUnet_15ep.hdf5\n",
            "Epoch 3/15\n",
            "50000/50000 [==============================] - 92s 2ms/step - loss: 0.5621 - acc: 0.0121\n",
            "\n",
            "Epoch 00003: saving model to /content/drive/My Drive/final_ai/test_ver2_onlyUnet_15ep.hdf5\n",
            "Epoch 4/15\n",
            "50000/50000 [==============================] - 94s 2ms/step - loss: 0.5614 - acc: 0.0121\n",
            "\n",
            "Epoch 00004: saving model to /content/drive/My Drive/final_ai/test_ver2_onlyUnet_15ep.hdf5\n",
            "Epoch 5/15\n",
            "50000/50000 [==============================] - 92s 2ms/step - loss: 0.5608 - acc: 0.0121\n",
            "\n",
            "Epoch 00005: saving model to /content/drive/My Drive/final_ai/test_ver2_onlyUnet_15ep.hdf5\n",
            "Epoch 6/15\n",
            "50000/50000 [==============================] - 92s 2ms/step - loss: 0.5603 - acc: 0.0121\n",
            "\n",
            "Epoch 00006: saving model to /content/drive/My Drive/final_ai/test_ver2_onlyUnet_15ep.hdf5\n",
            "Epoch 7/15\n",
            "50000/50000 [==============================] - 92s 2ms/step - loss: 0.5599 - acc: 0.0121\n",
            "\n",
            "Epoch 00007: saving model to /content/drive/My Drive/final_ai/test_ver2_onlyUnet_15ep.hdf5\n",
            "Epoch 8/15\n",
            "50000/50000 [==============================] - 92s 2ms/step - loss: 0.5593 - acc: 0.0121\n",
            "\n",
            "Epoch 00008: saving model to /content/drive/My Drive/final_ai/test_ver2_onlyUnet_15ep.hdf5\n",
            "Epoch 9/15\n",
            "50000/50000 [==============================] - 92s 2ms/step - loss: 0.5588 - acc: 0.0121\n",
            "\n",
            "Epoch 00009: saving model to /content/drive/My Drive/final_ai/test_ver2_onlyUnet_15ep.hdf5\n",
            "Epoch 10/15\n",
            "50000/50000 [==============================] - 92s 2ms/step - loss: 0.5582 - acc: 0.0121\n",
            "\n",
            "Epoch 00010: saving model to /content/drive/My Drive/final_ai/test_ver2_onlyUnet_15ep.hdf5\n",
            "Epoch 11/15\n",
            "50000/50000 [==============================] - 92s 2ms/step - loss: 0.5576 - acc: 0.0121\n",
            "\n",
            "Epoch 00011: saving model to /content/drive/My Drive/final_ai/test_ver2_onlyUnet_15ep.hdf5\n",
            "Epoch 12/15\n",
            "50000/50000 [==============================] - 92s 2ms/step - loss: 0.5570 - acc: 0.0121\n",
            "\n",
            "Epoch 00012: saving model to /content/drive/My Drive/final_ai/test_ver2_onlyUnet_15ep.hdf5\n",
            "Epoch 13/15\n",
            "50000/50000 [==============================] - 92s 2ms/step - loss: 0.5565 - acc: 0.0121\n",
            "\n",
            "Epoch 00013: saving model to /content/drive/My Drive/final_ai/test_ver2_onlyUnet_15ep.hdf5\n",
            "Epoch 14/15\n",
            "50000/50000 [==============================] - 92s 2ms/step - loss: 0.5560 - acc: 0.0121\n",
            "\n",
            "Epoch 00014: saving model to /content/drive/My Drive/final_ai/test_ver2_onlyUnet_15ep.hdf5\n",
            "Epoch 15/15\n",
            "50000/50000 [==============================] - 92s 2ms/step - loss: 0.5557 - acc: 0.0121\n",
            "\n",
            "Epoch 00015: saving model to /content/drive/My Drive/final_ai/test_ver2_onlyUnet_15ep.hdf5\n"
          ],
          "name": "stdout"
        }
      ]
    },
    {
      "cell_type": "markdown",
      "metadata": {
        "id": "dyKpglf2GGu8",
        "colab_type": "text"
      },
      "source": [
        "# Evaluate"
      ]
    },
    {
      "cell_type": "code",
      "metadata": {
        "id": "WxAhMnMUNxQI",
        "colab_type": "code",
        "colab": {
          "base_uri": "https://localhost:8080/",
          "height": 68
        },
        "outputId": "80480944-3441-4733-fa29-d07b84ad9d79"
      },
      "source": [
        "# Evaluate model by using loss and accuracy\n",
        "(data, _), (_, _) = load_data()\n",
        "X = reshape2gray(data, (50000,32,32,1))\n",
        "Y = reshape(data, (50000,32,32,3))\n",
        "\n",
        "loss,acc = model.evaluate(X,Y)\n",
        "print(loss)\n",
        "print(acc)"
      ],
      "execution_count": 32,
      "outputs": [
        {
          "output_type": "stream",
          "text": [
            "50000/50000 [==============================] - 25s 499us/step\n",
            "0.556328187122345\n",
            "0.01207527373496443\n"
          ],
          "name": "stdout"
        }
      ]
    },
    {
      "cell_type": "markdown",
      "metadata": {
        "id": "8qRK7gvKkTqe",
        "colab_type": "text"
      },
      "source": [
        "# Predict U-net"
      ]
    },
    {
      "cell_type": "code",
      "metadata": {
        "id": "0m-uJjfrJn3X",
        "colab_type": "code",
        "outputId": "0e0d95a2-8b3a-49b9-e082-d898592ac4fa",
        "colab": {
          "base_uri": "https://localhost:8080/",
          "height": 34
        }
      },
      "source": [
        "# Predict result\n",
        "result = model.predict(feature_test)\n",
        "print(result.shape)"
      ],
      "execution_count": 12,
      "outputs": [
        {
          "output_type": "stream",
          "text": [
            "(10000, 32, 32, 3)\n"
          ],
          "name": "stdout"
        }
      ]
    },
    {
      "cell_type": "code",
      "metadata": {
        "id": "4xyswONHcDTq",
        "colab_type": "code",
        "colab": {}
      },
      "source": [
        "# load original\n",
        "(_, _), (original, _) = load_data()\n",
        "original_gray = rgb2gray(original)"
      ],
      "execution_count": 0,
      "outputs": []
    },
    {
      "cell_type": "code",
      "metadata": {
        "id": "WG-zmpJfS2iA",
        "colab_type": "code",
        "outputId": "c486dda0-6641-4a9b-84dd-c8f11e9c16fc",
        "colab": {
          "base_uri": "https://localhost:8080/",
          "height": 273
        }
      },
      "source": [
        "# Show result\n",
        "item = 8000\n",
        "print(label_test.shape)\n",
        "print(original_gray.shape)\n",
        "print(result.shape)\n",
        "fig, axes = pyplot.subplots(1, 3, figsize=(8, 4))\n",
        "ax = axes.ravel()\n",
        "\n",
        "ax[0].imshow(label_test[item])\n",
        "ax[0].set_title(\"Original\")\n",
        "ax[1].imshow(original_gray[item], cmap=pyplot.cm.gray)\n",
        "ax[1].set_title(\"Grayscale\")\n",
        "ax[2].imshow(result[item])\n",
        "ax[2].set_title(\"Predicted\")\n",
        "\n",
        "fig.tight_layout()\n",
        "pyplot.show()"
      ],
      "execution_count": 14,
      "outputs": [
        {
          "output_type": "stream",
          "text": [
            "(10000, 32, 32, 3)\n",
            "(10000, 32, 32)\n",
            "(10000, 32, 32, 3)\n"
          ],
          "name": "stdout"
        },
        {
          "output_type": "display_data",
          "data": {
            "image/png": "[encoded data removed]",
            "text/plain": [
              "<Figure size 576x288 with 3 Axes>"
            ]
          },
          "metadata": {
            "tags": []
          }
        }
      ]
    },
    {
      "cell_type": "code",
      "metadata": {
        "id": "7Deh5k_Xf2_V",
        "colab_type": "code",
        "colab": {}
      },
      "source": [
        ""
      ],
      "execution_count": 0,
      "outputs": []
    }
  ]
}