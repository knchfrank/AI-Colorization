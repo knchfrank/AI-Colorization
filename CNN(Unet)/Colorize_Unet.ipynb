{
  "nbformat": 4,
  "nbformat_minor": 0,
  "metadata": {
    "colab": {
      "name": "place_colorize_onlyUnet.ipynb",
      "provenance": [],
      "collapsed_sections": [],
      "toc_visible": true
    },
    "kernelspec": {
      "name": "python3",
      "display_name": "Python 3"
    },
    "accelerator": "GPU"
  },
  "cells": [
    {
      "cell_type": "code",
      "metadata": {
        "id": "mGhOBptT_N1H",
        "colab_type": "code",
        "outputId": "6a2addee-77b8-4e7e-e2bd-6e3e7a0f11db",
        "colab": {
          "base_uri": "https://localhost:8080/",
          "height": 122
        }
      },
      "source": [
        "from google.colab import drive\n",
        "drive.mount('/content/drive')"
      ],
      "execution_count": 11,
      "outputs": [
        {
          "output_type": "stream",
          "text": [
            "Go to this URL in a browser: https://accounts.google.com/o/oauth2/auth?client_id=947318989803-6bn6qk8qdgf4n4g3pfee6491hc0brc4i.apps.googleusercontent.com&redirect_uri=urn%3aietf%3awg%3aoauth%3a2.0%3aoob&response_type=code&scope=email%20https%3a%2f%2fwww.googleapis.com%2fauth%2fdocs.test%20https%3a%2f%2fwww.googleapis.com%2fauth%2fdrive%20https%3a%2f%2fwww.googleapis.com%2fauth%2fdrive.photos.readonly%20https%3a%2f%2fwww.googleapis.com%2fauth%2fpeopleapi.readonly\n",
            "\n",
            "Enter your authorization code:\n",
            "··········\n",
            "Mounted at /content/drive\n"
          ],
          "name": "stdout"
        }
      ]
    },
    {
      "cell_type": "code",
      "metadata": {
        "id": "VUpPpAGaGST3",
        "colab_type": "code",
        "outputId": "8e59e105-8b9a-4fa2-d276-7509b44a4e58",
        "colab": {
          "base_uri": "https://localhost:8080/",
          "height": 97
        }
      },
      "source": [
        "from keras.datasets.cifar10 import load_data\n",
        "from skimage.color import rgb2gray\n",
        "import matplotlib.pyplot as pyplot\n",
        "import numpy as np"
      ],
      "execution_count": 1,
      "outputs": [
        {
          "output_type": "stream",
          "text": [
            "Using TensorFlow backend.\n"
          ],
          "name": "stderr"
        },
        {
          "output_type": "display_data",
          "data": {
            "text/html": [
              "<p style=\"color: red;\">\n",
              "The default version of TensorFlow in Colab will soon switch to TensorFlow 2.x.<br>\n",
              "We recommend you <a href=\"https://www.tensorflow.org/guide/migrate\" target=\"_blank\">upgrade</a> now \n",
              "or ensure your notebook will continue to use TensorFlow 1.x via the <code>%tensorflow_version 1.x</code> magic:\n",
              "<a href=\"https://colab.research.google.com/notebooks/tensorflow_version.ipynb\" target=\"_blank\">more info</a>.</p>\n"
            ],
            "text/plain": [
              "<IPython.core.display.HTML object>"
            ]
          },
          "metadata": {
            "tags": []
          }
        }
      ]
    },
    {
      "cell_type": "code",
      "metadata": {
        "id": "qFBvLmTTD0Ck",
        "colab_type": "code",
        "colab": {}
      },
      "source": [
        "def reshape(item, shape):\n",
        "  item = np.array(item)\n",
        "  item = np.reshape(item, shape)\n",
        "  item = item/255.\n",
        "  return item"
      ],
      "execution_count": 0,
      "outputs": []
    },
    {
      "cell_type": "code",
      "metadata": {
        "id": "cnL34sG6FCjc",
        "colab_type": "code",
        "colab": {}
      },
      "source": [
        "def reshape2gray(item, shape):\n",
        "  item = rgb2gray(item)\n",
        "  item = np.array(item)\n",
        "  item = np.reshape(item, shape)\n",
        "  item = item/255.\n",
        "  return item"
      ],
      "execution_count": 0,
      "outputs": []
    },
    {
      "cell_type": "markdown",
      "metadata": {
        "id": "T69pSHW9GcU1",
        "colab_type": "text"
      },
      "source": [
        "# Load data"
      ]
    },
    {
      "cell_type": "code",
      "metadata": {
        "id": "AHsdFKjm_vLj",
        "colab_type": "code",
        "outputId": "22b5a6a9-55a1-41a1-e52c-91226b61cad6",
        "colab": {
          "base_uri": "https://localhost:8080/",
          "height": 51
        }
      },
      "source": [
        "(trainX, _), (testX, _) = load_data()"
      ],
      "execution_count": 4,
      "outputs": [
        {
          "output_type": "stream",
          "text": [
            "Downloading data from https://www.cs.toronto.edu/~kriz/cifar-10-python.tar.gz\n",
            "170500096/170498071 [==============================] - 4s 0us/step\n"
          ],
          "name": "stdout"
        }
      ]
    },
    {
      "cell_type": "markdown",
      "metadata": {
        "id": "THWqaa2bGfaB",
        "colab_type": "text"
      },
      "source": [
        "# Preprocess"
      ]
    },
    {
      "cell_type": "code",
      "metadata": {
        "id": "KXoecg1nEQOP",
        "colab_type": "code",
        "colab": {}
      },
      "source": [
        "# Reshape training set\n",
        "feature = reshape2gray(trainX, (50000, 32, 32, 1))\n",
        "label = reshape(trainX, (50000, 32, 32, 3))\n",
        "\n",
        "# Reshape testing set\n",
        "feature_test = reshape2gray(testX, (10000, 32, 32, 1))\n",
        "label_test = reshape(testX, (10000, 32, 32, 3))"
      ],
      "execution_count": 0,
      "outputs": []
    },
    {
      "cell_type": "code",
      "metadata": {
        "id": "DlfP6g6a_vJC",
        "colab_type": "code",
        "outputId": "41b13cfc-d79c-4453-c95a-be77e1913f11",
        "colab": {
          "base_uri": "https://localhost:8080/",
          "height": 346
        }
      },
      "source": [
        "from skimage.color import rgb2gray\n",
        "import numpy as np\n",
        "\n",
        "# Convert training set to gray scale for display\n",
        "feature = rgb2gray(trainX)\n",
        "label = trainX\n",
        "\n",
        "# Show color and gray images\n",
        "fig, axes = pyplot.subplots(1, 2, figsize=(8, 4))\n",
        "ax = axes.ravel()\n",
        "\n",
        "ax[0].imshow(label[0])\n",
        "ax[0].set_title(\"Original\")\n",
        "ax[1].imshow(feature[0], cmap=pyplot.cm.gray)\n",
        "ax[1].set_title(\"Grayscale\")\n",
        "\n",
        "fig.tight_layout()\n",
        "pyplot.show()\n",
        "\n",
        "# feature = np.array(feature)\n",
        "# feature = np.reshape(feature, (50000,32,32,1))\n",
        "# feature = feature/255.\n",
        "# label = np.array(label)\n",
        "# label = np.reshape(label, (50000,32,32,3))\n",
        "# label = label/255.\n",
        "print(\"feature shape : \" + str(feature.shape))\n",
        "print(\"label shape : \" + str(label.shape))"
      ],
      "execution_count": 7,
      "outputs": [
        {
          "output_type": "display_data",
          "data": {
            "image/png": "[encoded data removed]",
            "text/plain": [
              "<Figure size 576x288 with 2 Axes>"
            ]
          },
          "metadata": {
            "tags": []
          }
        },
        {
          "output_type": "stream",
          "text": [
            "feature shape : (50000, 32, 32)\n",
            "label shape : (50000, 32, 32, 3)\n"
          ],
          "name": "stdout"
        }
      ]
    },
    {
      "cell_type": "code",
      "metadata": {
        "id": "ZPEB9HdERHkL",
        "colab_type": "code",
        "outputId": "87594ede-ac19-44fa-987b-e2beaeda9469",
        "colab": {
          "base_uri": "https://localhost:8080/",
          "height": 346
        }
      },
      "source": [
        "from skimage.color import rgb2gray\n",
        "import numpy as np\n",
        "\n",
        "# Convert testing set to gray scale for display\n",
        "feature_test = rgb2gray(testX)\n",
        "label_test = testX\n",
        "\n",
        "# Show color and gray images\n",
        "fig, axes = pyplot.subplots(1, 2, figsize=(8, 4))\n",
        "ax = axes.ravel()\n",
        "\n",
        "ax[0].imshow(label_test[6])\n",
        "ax[0].set_title(\"Original\")\n",
        "ax[1].imshow(feature_test[6], cmap=pyplot.cm.gray)\n",
        "ax[1].set_title(\"Grayscale\")\n",
        "\n",
        "fig.tight_layout()\n",
        "pyplot.show()\n",
        "\n",
        "# feature_test = np.array(feature_test)\n",
        "# feature_test = np.reshape(feature_test, (10000,32,32,1))\n",
        "# feature_test = feature_test/255.\n",
        "# label_test = np.array(label_test)\n",
        "# label_test = np.reshape(label_test, (10000,32,32,3))\n",
        "# label_test = label_test/255.\n",
        "print(\"feature_test shape : \" + str(feature_test.shape))\n",
        "print(\"label_test shape : \" + str(label_test.shape))"
      ],
      "execution_count": 8,
      "outputs": [
        {
          "output_type": "display_data",
          "data": {
            "image/png": "[encoded data removed]",
            "text/plain": [
              "<Figure size 576x288 with 2 Axes>"
            ]
          },
          "metadata": {
            "tags": []
          }
        },
        {
          "output_type": "stream",
          "text": [
            "feature_test shape : (10000, 32, 32)\n",
            "label_test shape : (10000, 32, 32, 3)\n"
          ],
          "name": "stdout"
        }
      ]
    },
    {
      "cell_type": "markdown",
      "metadata": {
        "id": "STEhRxeljwWX",
        "colab_type": "text"
      },
      "source": [
        "# define U-Net"
      ]
    },
    {
      "cell_type": "code",
      "metadata": {
        "id": "ABfgQNaZGbTb",
        "colab_type": "code",
        "colab": {}
      },
      "source": [
        "# define u-net refference by https://github.com/zhixuhao/unet\n",
        "import numpy as np \n",
        "import os\n",
        "import skimage.io as io\n",
        "import skimage.transform as trans\n",
        "import numpy as np\n",
        "from keras.models import *\n",
        "from keras.layers import *\n",
        "from keras.optimizers import *\n",
        "from keras.callbacks import ModelCheckpoint, LearningRateScheduler\n",
        "from keras import backend as keras\n",
        "\n",
        "def unet(pretrained_weights = None,input_size = (32,32,1)):\n",
        "    inputs = Input(input_size)\n",
        "    print(inputs.shape)\n",
        "    conv1 = Conv2D(64, 3, activation = 'relu', padding = 'same', kernel_initializer = 'he_normal')(inputs)\n",
        "    conv1 = Conv2D(64, 3, activation = 'relu', padding = 'same', kernel_initializer = 'he_normal')(conv1)\n",
        "    pool1 = MaxPooling2D(pool_size=(2, 2))(conv1)\n",
        "    conv2 = Conv2D(128, 3, activation = 'relu', padding = 'same', kernel_initializer = 'he_normal')(pool1)\n",
        "    conv2 = Conv2D(128, 3, activation = 'relu', padding = 'same', kernel_initializer = 'he_normal')(conv2)\n",
        "    pool2 = MaxPooling2D(pool_size=(2, 2))(conv2)\n",
        "    conv3 = Conv2D(256, 3, activation = 'relu', padding = 'same', kernel_initializer = 'he_normal')(pool2)\n",
        "    conv3 = Conv2D(256, 3, activation = 'relu', padding = 'same', kernel_initializer = 'he_normal')(conv3)\n",
        "    pool3 = MaxPooling2D(pool_size=(2, 2))(conv3)\n",
        "    conv4 = Conv2D(512, 3, activation = 'relu', padding = 'same', kernel_initializer = 'he_normal')(pool3)\n",
        "    conv4 = Conv2D(512, 3, activation = 'relu', padding = 'same', kernel_initializer = 'he_normal')(conv4)\n",
        "    drop4 = Dropout(0.5)(conv4)\n",
        "    pool4 = MaxPooling2D(pool_size=(2, 2))(drop4)\n",
        "\n",
        "    conv5 = Conv2D(1024, 3, activation = 'relu', padding = 'same', kernel_initializer = 'he_normal')(pool4)\n",
        "    conv5 = Conv2D(1024, 3, activation = 'relu', padding = 'same', kernel_initializer = 'he_normal')(conv5)\n",
        "    drop5 = Dropout(0.5)(conv5)\n",
        "\n",
        "    up6 = Conv2D(512, 2, activation = 'relu', padding = 'same', kernel_initializer = 'he_normal')(UpSampling2D(size = (2,2))(drop5))\n",
        "    merge6 = concatenate([drop4,up6], axis = 3)\n",
        "    conv6 = Conv2D(512, 3, activation = 'relu', padding = 'same', kernel_initializer = 'he_normal')(merge6)\n",
        "    conv6 = Conv2D(512, 3, activation = 'relu', padding = 'same', kernel_initializer = 'he_normal')(conv6)\n",
        "\n",
        "    up7 = Conv2D(256, 2, activation = 'relu', padding = 'same', kernel_initializer = 'he_normal')(UpSampling2D(size = (2,2))(conv6))\n",
        "    merge7 = concatenate([conv3,up7], axis = 3)\n",
        "    conv7 = Conv2D(256, 3, activation = 'relu', padding = 'same', kernel_initializer = 'he_normal')(merge7)\n",
        "    conv7 = Conv2D(256, 3, activation = 'relu', padding = 'same', kernel_initializer = 'he_normal')(conv7)\n",
        "\n",
        "    up8 = Conv2D(128, 2, activation = 'relu', padding = 'same', kernel_initializer = 'he_normal')(UpSampling2D(size = (2,2))(conv7))\n",
        "    merge8 = concatenate([conv2,up8], axis = 3)\n",
        "    conv8 = Conv2D(128, 3, activation = 'relu', padding = 'same', kernel_initializer = 'he_normal')(merge8)\n",
        "    conv8 = Conv2D(128, 3, activation = 'relu', padding = 'same', kernel_initializer = 'he_normal')(conv8)\n",
        "\n",
        "    up9 = Conv2D(64, 2, activation = 'relu', padding = 'same', kernel_initializer = 'he_normal')(UpSampling2D(size = (2,2))(conv8))\n",
        "    merge9 = concatenate([conv1,up9], axis = 3)\n",
        "    conv9 = Conv2D(64, 3, activation = 'relu', padding = 'same', kernel_initializer = 'he_normal')(merge9)\n",
        "    conv9 = Conv2D(64, 3, activation = 'relu', padding = 'same', kernel_initializer = 'he_normal')(conv9)\n",
        "    conv9 = Conv2D(32, 3, activation = 'relu', padding = 'same', kernel_initializer = 'he_normal')(conv9)\n",
        "    conv10 = Conv2D(3, 1, activation = 'sigmoid')(conv9)\n",
        "\n",
        "    model = Model(input = inputs, output = conv10)\n",
        "\n",
        "    model.compile(optimizer = Adam(lr = 1e-4), loss = 'binary_crossentropy', metrics = ['accuracy'])\n",
        "    \n",
        "    #model.summary()\n",
        "\n",
        "    if(pretrained_weights):\n",
        "    \tmodel.load_weights(pretrained_weights)\n",
        "\n",
        "    return model"
      ],
      "execution_count": 0,
      "outputs": []
    },
    {
      "cell_type": "markdown",
      "metadata": {
        "id": "Vltdty2jAOyx",
        "colab_type": "text"
      },
      "source": [
        "# Build U-net"
      ]
    },
    {
      "cell_type": "code",
      "metadata": {
        "id": "zGQhF0-RJord",
        "colab_type": "code",
        "outputId": "00c6753c-5c78-4bae-da4f-7d1e7251d05a",
        "colab": {
          "base_uri": "https://localhost:8080/",
          "height": 1000
        }
      },
      "source": [
        "# Builing U-net\n",
        "from keras.utils import plot_model\n",
        "input_shape = (32,32,1)\n",
        "weight_path = '/content/drive/My Drive/final_ai/test_onlyUnet_15ep.hdf5'  # load weigth from saved\n",
        "model = unet(weight_path, input_shape)  # use unet(False, input_shape) for dont use pre-trained\n",
        "model.summary()\n",
        "# plot_model(model, to_file='gan.png', show_shapes=True)  # plot a graph model"
      ],
      "execution_count": 12,
      "outputs": [
        {
          "output_type": "stream",
          "text": [
            "(?, 32, 32, 1)\n"
          ],
          "name": "stdout"
        },
        {
          "output_type": "stream",
          "text": [
            "/usr/local/lib/python3.6/dist-packages/ipykernel_launcher.py:55: UserWarning: Update your `Model` call to the Keras 2 API: `Model(inputs=Tensor(\"in..., outputs=Tensor(\"co...)`\n"
          ],
          "name": "stderr"
        },
        {
          "output_type": "stream",
          "text": [
            "WARNING:tensorflow:From /usr/local/lib/python3.6/dist-packages/keras/backend/tensorflow_backend.py:190: The name tf.get_default_session is deprecated. Please use tf.compat.v1.get_default_session instead.\n",
            "\n",
            "WARNING:tensorflow:From /usr/local/lib/python3.6/dist-packages/keras/backend/tensorflow_backend.py:197: The name tf.ConfigProto is deprecated. Please use tf.compat.v1.ConfigProto instead.\n",
            "\n",
            "WARNING:tensorflow:From /usr/local/lib/python3.6/dist-packages/keras/backend/tensorflow_backend.py:203: The name tf.Session is deprecated. Please use tf.compat.v1.Session instead.\n",
            "\n",
            "WARNING:tensorflow:From /usr/local/lib/python3.6/dist-packages/keras/backend/tensorflow_backend.py:207: The name tf.global_variables is deprecated. Please use tf.compat.v1.global_variables instead.\n",
            "\n",
            "WARNING:tensorflow:From /usr/local/lib/python3.6/dist-packages/keras/backend/tensorflow_backend.py:216: The name tf.is_variable_initialized is deprecated. Please use tf.compat.v1.is_variable_initialized instead.\n",
            "\n",
            "WARNING:tensorflow:From /usr/local/lib/python3.6/dist-packages/keras/backend/tensorflow_backend.py:223: The name tf.variables_initializer is deprecated. Please use tf.compat.v1.variables_initializer instead.\n",
            "\n",
            "Model: \"model_2\"\n",
            "__________________________________________________________________________________________________\n",
            "Layer (type)                    Output Shape         Param #     Connected to                     \n",
            "==================================================================================================\n",
            "input_2 (InputLayer)            (None, 32, 32, 1)    0                                            \n",
            "__________________________________________________________________________________________________\n",
            "conv2d_25 (Conv2D)              (None, 32, 32, 64)   640         input_2[0][0]                    \n",
            "__________________________________________________________________________________________________\n",
            "conv2d_26 (Conv2D)              (None, 32, 32, 64)   36928       conv2d_25[0][0]                  \n",
            "__________________________________________________________________________________________________\n",
            "max_pooling2d_5 (MaxPooling2D)  (None, 16, 16, 64)   0           conv2d_26[0][0]                  \n",
            "__________________________________________________________________________________________________\n",
            "conv2d_27 (Conv2D)              (None, 16, 16, 128)  73856       max_pooling2d_5[0][0]            \n",
            "__________________________________________________________________________________________________\n",
            "conv2d_28 (Conv2D)              (None, 16, 16, 128)  147584      conv2d_27[0][0]                  \n",
            "__________________________________________________________________________________________________\n",
            "max_pooling2d_6 (MaxPooling2D)  (None, 8, 8, 128)    0           conv2d_28[0][0]                  \n",
            "__________________________________________________________________________________________________\n",
            "conv2d_29 (Conv2D)              (None, 8, 8, 256)    295168      max_pooling2d_6[0][0]            \n",
            "__________________________________________________________________________________________________\n",
            "conv2d_30 (Conv2D)              (None, 8, 8, 256)    590080      conv2d_29[0][0]                  \n",
            "__________________________________________________________________________________________________\n",
            "max_pooling2d_7 (MaxPooling2D)  (None, 4, 4, 256)    0           conv2d_30[0][0]                  \n",
            "__________________________________________________________________________________________________\n",
            "conv2d_31 (Conv2D)              (None, 4, 4, 512)    1180160     max_pooling2d_7[0][0]            \n",
            "__________________________________________________________________________________________________\n",
            "conv2d_32 (Conv2D)              (None, 4, 4, 512)    2359808     conv2d_31[0][0]                  \n",
            "__________________________________________________________________________________________________\n",
            "dropout_3 (Dropout)             (None, 4, 4, 512)    0           conv2d_32[0][0]                  \n",
            "__________________________________________________________________________________________________\n",
            "max_pooling2d_8 (MaxPooling2D)  (None, 2, 2, 512)    0           dropout_3[0][0]                  \n",
            "__________________________________________________________________________________________________\n",
            "conv2d_33 (Conv2D)              (None, 2, 2, 1024)   4719616     max_pooling2d_8[0][0]            \n",
            "__________________________________________________________________________________________________\n",
            "conv2d_34 (Conv2D)              (None, 2, 2, 1024)   9438208     conv2d_33[0][0]                  \n",
            "__________________________________________________________________________________________________\n",
            "dropout_4 (Dropout)             (None, 2, 2, 1024)   0           conv2d_34[0][0]                  \n",
            "__________________________________________________________________________________________________\n",
            "up_sampling2d_5 (UpSampling2D)  (None, 4, 4, 1024)   0           dropout_4[0][0]                  \n",
            "__________________________________________________________________________________________________\n",
            "conv2d_35 (Conv2D)              (None, 4, 4, 512)    2097664     up_sampling2d_5[0][0]            \n",
            "__________________________________________________________________________________________________\n",
            "concatenate_5 (Concatenate)     (None, 4, 4, 1024)   0           dropout_3[0][0]                  \n",
            "                                                                 conv2d_35[0][0]                  \n",
            "__________________________________________________________________________________________________\n",
            "conv2d_36 (Conv2D)              (None, 4, 4, 512)    4719104     concatenate_5[0][0]              \n",
            "__________________________________________________________________________________________________\n",
            "conv2d_37 (Conv2D)              (None, 4, 4, 512)    2359808     conv2d_36[0][0]                  \n",
            "__________________________________________________________________________________________________\n",
            "up_sampling2d_6 (UpSampling2D)  (None, 8, 8, 512)    0           conv2d_37[0][0]                  \n",
            "__________________________________________________________________________________________________\n",
            "conv2d_38 (Conv2D)              (None, 8, 8, 256)    524544      up_sampling2d_6[0][0]            \n",
            "__________________________________________________________________________________________________\n",
            "concatenate_6 (Concatenate)     (None, 8, 8, 512)    0           conv2d_30[0][0]                  \n",
            "                                                                 conv2d_38[0][0]                  \n",
            "__________________________________________________________________________________________________\n",
            "conv2d_39 (Conv2D)              (None, 8, 8, 256)    1179904     concatenate_6[0][0]              \n",
            "__________________________________________________________________________________________________\n",
            "conv2d_40 (Conv2D)              (None, 8, 8, 256)    590080      conv2d_39[0][0]                  \n",
            "__________________________________________________________________________________________________\n",
            "up_sampling2d_7 (UpSampling2D)  (None, 16, 16, 256)  0           conv2d_40[0][0]                  \n",
            "__________________________________________________________________________________________________\n",
            "conv2d_41 (Conv2D)              (None, 16, 16, 128)  131200      up_sampling2d_7[0][0]            \n",
            "__________________________________________________________________________________________________\n",
            "concatenate_7 (Concatenate)     (None, 16, 16, 256)  0           conv2d_28[0][0]                  \n",
            "                                                                 conv2d_41[0][0]                  \n",
            "__________________________________________________________________________________________________\n",
            "conv2d_42 (Conv2D)              (None, 16, 16, 128)  295040      concatenate_7[0][0]              \n",
            "__________________________________________________________________________________________________\n",
            "conv2d_43 (Conv2D)              (None, 16, 16, 128)  147584      conv2d_42[0][0]                  \n",
            "__________________________________________________________________________________________________\n",
            "up_sampling2d_8 (UpSampling2D)  (None, 32, 32, 128)  0           conv2d_43[0][0]                  \n",
            "__________________________________________________________________________________________________\n",
            "conv2d_44 (Conv2D)              (None, 32, 32, 64)   32832       up_sampling2d_8[0][0]            \n",
            "__________________________________________________________________________________________________\n",
            "concatenate_8 (Concatenate)     (None, 32, 32, 128)  0           conv2d_26[0][0]                  \n",
            "                                                                 conv2d_44[0][0]                  \n",
            "__________________________________________________________________________________________________\n",
            "conv2d_45 (Conv2D)              (None, 32, 32, 64)   73792       concatenate_8[0][0]              \n",
            "__________________________________________________________________________________________________\n",
            "conv2d_46 (Conv2D)              (None, 32, 32, 64)   36928       conv2d_45[0][0]                  \n",
            "__________________________________________________________________________________________________\n",
            "conv2d_47 (Conv2D)              (None, 32, 32, 32)   18464       conv2d_46[0][0]                  \n",
            "__________________________________________________________________________________________________\n",
            "conv2d_48 (Conv2D)              (None, 32, 32, 3)    99          conv2d_47[0][0]                  \n",
            "==================================================================================================\n",
            "Total params: 31,049,091\n",
            "Trainable params: 31,049,091\n",
            "Non-trainable params: 0\n",
            "__________________________________________________________________________________________________\n"
          ],
          "name": "stdout"
        }
      ]
    },
    {
      "cell_type": "markdown",
      "metadata": {
        "id": "faEH4AhmASL3",
        "colab_type": "text"
      },
      "source": [
        "# Train U-net"
      ]
    },
    {
      "cell_type": "code",
      "metadata": {
        "id": "2fg3KZLHgLtL",
        "colab_type": "code",
        "colab": {}
      },
      "source": [
        "# Define callback for checkpoint \n",
        "from keras import callbacks\n",
        "checkpoint = callbacks.ModelCheckpoint(filepath='/content/drive/My Drive/final_ai/test_onlyUnet_15ep_final.hdf5', verbose=1) # define save weigth path"
      ],
      "execution_count": 0,
      "outputs": []
    },
    {
      "cell_type": "code",
      "metadata": {
        "id": "ps_C1vO2JohK",
        "colab_type": "code",
        "outputId": "6a83ca83-66a9-4f6f-efa1-98a74db6a101",
        "colab": {
          "base_uri": "https://localhost:8080/",
          "height": 1000
        }
      },
      "source": [
        "# Training model\n",
        "his = model.fit(x=feature,\n",
        "                y=label,\n",
        "                epochs=15,\n",
        "                verbose=1,\n",
        "                callbacks = [checkpoint],\n",
        "                workers=4,\n",
        "                use_multiprocessing=True)"
      ],
      "execution_count": 61,
      "outputs": [
        {
          "output_type": "stream",
          "text": [
            "WARNING:tensorflow:From /usr/local/lib/python3.6/dist-packages/keras/backend/tensorflow_backend.py:1033: The name tf.assign_add is deprecated. Please use tf.compat.v1.assign_add instead.\n",
            "\n",
            "WARNING:tensorflow:From /usr/local/lib/python3.6/dist-packages/keras/backend/tensorflow_backend.py:1020: The name tf.assign is deprecated. Please use tf.compat.v1.assign instead.\n",
            "\n",
            "Epoch 1/15\n",
            "50000/50000 [==============================] - 301s 6ms/step - loss: 0.5769 - acc: 0.0119\n",
            "\n",
            "Epoch 00001: saving model to /content/drive/My Drive/final_ai/test_onlyUnet_15ep_final.hdf5\n",
            "Epoch 2/15\n",
            "50000/50000 [==============================] - 295s 6ms/step - loss: 0.5650 - acc: 0.0121\n",
            "\n",
            "Epoch 00002: saving model to /content/drive/My Drive/final_ai/test_onlyUnet_15ep_final.hdf5\n",
            "Epoch 3/15\n",
            "50000/50000 [==============================] - 295s 6ms/step - loss: 0.5628 - acc: 0.0121\n",
            "\n",
            "Epoch 00003: saving model to /content/drive/My Drive/final_ai/test_onlyUnet_15ep_final.hdf5\n",
            "Epoch 4/15\n",
            "50000/50000 [==============================] - 295s 6ms/step - loss: 0.5619 - acc: 0.0121\n",
            "\n",
            "Epoch 00004: saving model to /content/drive/My Drive/final_ai/test_onlyUnet_15ep_final.hdf5\n",
            "Epoch 5/15\n",
            "50000/50000 [==============================] - 296s 6ms/step - loss: 0.5613 - acc: 0.0121\n",
            "\n",
            "Epoch 00005: saving model to /content/drive/My Drive/final_ai/test_onlyUnet_15ep_final.hdf5\n",
            "Epoch 6/15\n",
            "50000/50000 [==============================] - 296s 6ms/step - loss: 0.5609 - acc: 0.0121\n",
            "\n",
            "Epoch 00006: saving model to /content/drive/My Drive/final_ai/test_onlyUnet_15ep_final.hdf5\n",
            "Epoch 7/15\n",
            "50000/50000 [==============================] - 295s 6ms/step - loss: 0.5605 - acc: 0.0121\n",
            "\n",
            "Epoch 00007: saving model to /content/drive/My Drive/final_ai/test_onlyUnet_15ep_final.hdf5\n",
            "Epoch 8/15\n",
            "50000/50000 [==============================] - 295s 6ms/step - loss: 0.5602 - acc: 0.0121\n",
            "\n",
            "Epoch 00008: saving model to /content/drive/My Drive/final_ai/test_onlyUnet_15ep_final.hdf5\n",
            "Epoch 9/15\n",
            "50000/50000 [==============================] - 296s 6ms/step - loss: 0.5598 - acc: 0.0121\n",
            "\n",
            "Epoch 00009: saving model to /content/drive/My Drive/final_ai/test_onlyUnet_15ep_final.hdf5\n",
            "Epoch 10/15\n",
            "50000/50000 [==============================] - 296s 6ms/step - loss: 0.5596 - acc: 0.0121\n",
            "\n",
            "Epoch 00010: saving model to /content/drive/My Drive/final_ai/test_onlyUnet_15ep_final.hdf5\n",
            "Epoch 11/15\n",
            "50000/50000 [==============================] - 296s 6ms/step - loss: 0.5592 - acc: 0.0121\n",
            "\n",
            "Epoch 00011: saving model to /content/drive/My Drive/final_ai/test_onlyUnet_15ep_final.hdf5\n",
            "Epoch 12/15\n",
            "50000/50000 [==============================] - 297s 6ms/step - loss: 0.5588 - acc: 0.0121\n",
            "\n",
            "Epoch 00012: saving model to /content/drive/My Drive/final_ai/test_onlyUnet_15ep_final.hdf5\n",
            "Epoch 13/15\n",
            "50000/50000 [==============================] - 295s 6ms/step - loss: 0.5583 - acc: 0.0121\n",
            "\n",
            "Epoch 00013: saving model to /content/drive/My Drive/final_ai/test_onlyUnet_15ep_final.hdf5\n",
            "Epoch 14/15\n",
            "50000/50000 [==============================] - 295s 6ms/step - loss: 0.5578 - acc: 0.0121\n",
            "\n",
            "Epoch 00014: saving model to /content/drive/My Drive/final_ai/test_onlyUnet_15ep_final.hdf5\n",
            "Epoch 15/15\n",
            "50000/50000 [==============================] - 295s 6ms/step - loss: 0.5573 - acc: 0.0121\n",
            "\n",
            "Epoch 00015: saving model to /content/drive/My Drive/final_ai/test_onlyUnet_15ep_final.hdf5\n"
          ],
          "name": "stdout"
        }
      ]
    },
    {
      "cell_type": "markdown",
      "metadata": {
        "id": "BixR_peYP4HQ",
        "colab_type": "text"
      },
      "source": [
        "# Evaluate"
      ]
    },
    {
      "cell_type": "code",
      "metadata": {
        "id": "DgNgVNxlP8mr",
        "colab_type": "code",
        "colab": {
          "base_uri": "https://localhost:8080/",
          "height": 68
        },
        "outputId": "ff03ab44-434b-4fb6-a015-cdfc45440952"
      },
      "source": [
        "# Evaluate model using accuracy and loss\n",
        "(data, _), (_, _) = load_data()\n",
        "X = reshape2gray(data, (50000,32,32,1))\n",
        "Y = reshape(data, (50000,32,32,3))\n",
        "\n",
        "loss,acc = model.evaluate(X,Y)\n",
        "print(loss)\n",
        "print(acc)"
      ],
      "execution_count": 11,
      "outputs": [
        {
          "output_type": "stream",
          "text": [
            "50000/50000 [==============================] - 73s 1ms/step\n",
            "0.5568104668426513\n",
            "0.01207194040324539\n"
          ],
          "name": "stdout"
        }
      ]
    },
    {
      "cell_type": "markdown",
      "metadata": {
        "id": "8qRK7gvKkTqe",
        "colab_type": "text"
      },
      "source": [
        "# Predict U-net"
      ]
    },
    {
      "cell_type": "code",
      "metadata": {
        "id": "0m-uJjfrJn3X",
        "colab_type": "code",
        "outputId": "cc80ca69-9333-4e46-a739-f1dd5f423174",
        "colab": {
          "base_uri": "https://localhost:8080/",
          "height": 34
        }
      },
      "source": [
        "# Predict by U-net model\n",
        "result = model.predict(feature_test)\n",
        "print(result.shape)"
      ],
      "execution_count": 12,
      "outputs": [
        {
          "output_type": "stream",
          "text": [
            "(10000, 32, 32, 3)\n"
          ],
          "name": "stdout"
        }
      ]
    },
    {
      "cell_type": "code",
      "metadata": {
        "id": "4xyswONHcDTq",
        "colab_type": "code",
        "colab": {}
      },
      "source": [
        "# load original\n",
        "(_, _), (original, _) = load_data()\n",
        "original_gray = rgb2gray(original)"
      ],
      "execution_count": 0,
      "outputs": []
    },
    {
      "cell_type": "code",
      "metadata": {
        "id": "WG-zmpJfS2iA",
        "colab_type": "code",
        "outputId": "966d8d54-4a7d-4d50-e0d4-9d57c199d5f9",
        "colab": {
          "base_uri": "https://localhost:8080/",
          "height": 273
        }
      },
      "source": [
        "# Show result\n",
        "item = 8000\n",
        "print(label_test.shape)\n",
        "print(original_gray.shape)\n",
        "print(result.shape)\n",
        "fig, axes = pyplot.subplots(1, 3, figsize=(8, 4))\n",
        "ax = axes.ravel()\n",
        "\n",
        "ax[0].imshow(label_test[item])\n",
        "ax[0].set_title(\"Original\")\n",
        "ax[1].imshow(original_gray[item], cmap=pyplot.cm.gray)\n",
        "ax[1].set_title(\"Grayscale\")\n",
        "ax[2].imshow(result[item])\n",
        "ax[2].set_title(\"Predicted\")\n",
        "\n",
        "fig.tight_layout()\n",
        "pyplot.show()"
      ],
      "execution_count": 14,
      "outputs": [
        {
          "output_type": "stream",
          "text": [
            "(10000, 32, 32, 3)\n",
            "(10000, 32, 32)\n",
            "(10000, 32, 32, 3)\n"
          ],
          "name": "stdout"
        },
        {
          "output_type": "display_data",
          "data": {
            "image/png": "[encoded data removed]",
            "text/plain": [
              "<Figure size 576x288 with 3 Axes>"
            ]
          },
          "metadata": {
            "tags": []
          }
        }
      ]
    },
    {
      "cell_type": "code",
      "metadata": {
        "id": "7Deh5k_Xf2_V",
        "colab_type": "code",
        "colab": {}
      },
      "source": [
        ""
      ],
      "execution_count": 0,
      "outputs": []
    }
  ]
}